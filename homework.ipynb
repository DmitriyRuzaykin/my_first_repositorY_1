{
  "nbformat": 4,
  "nbformat_minor": 0,
  "metadata": {
    "colab": {
      "provenance": [],
      "authorship_tag": "ABX9TyPuXyHbDvmvPE6pwc9lFHm7",
      "include_colab_link": true
    },
    "kernelspec": {
      "name": "python3",
      "display_name": "Python 3"
    },
    "language_info": {
      "name": "python"
    }
  },
  "cells": [
    {
      "cell_type": "markdown",
      "metadata": {
        "id": "view-in-github",
        "colab_type": "text"
      },
      "source": [
        "<a href=\"https://colab.research.google.com/github/DmitriyRuzaykin/my_first_repositorY_1/blob/main/homework.ipynb\" target=\"_parent\"><img src=\"https://colab.research.google.com/assets/colab-badge.svg\" alt=\"Open In Colab\"/></a>"
      ]
    },
    {
      "cell_type": "markdown",
      "source": [
        "*Домашние* *задания*"
      ],
      "metadata": {
        "id": "n4cCacaGl9Hu"
      }
    },
    {
      "cell_type": "markdown",
      "source": [
        "Задание 1. Написать программу, запрашивающую на ввод год рождения, которая рассчитывает возраст пользователя."
      ],
      "metadata": {
        "id": "gsEaeybonDbJ"
      }
    },
    {
      "cell_type": "code",
      "source": [
        "print('Ваш возраст:', 2025 - int(input('Введите год рождения: ')))"
      ],
      "metadata": {
        "colab": {
          "base_uri": "https://localhost:8080/"
        },
        "id": "5_OqvTq2m8Wj",
        "outputId": "7d8d4a68-71ef-41a8-b947-bfdc302fe487"
      },
      "execution_count": null,
      "outputs": [
        {
          "output_type": "stream",
          "name": "stdout",
          "text": [
            "Введите год рождения: 1992\n",
            "Ваш возраст: 33\n"
          ]
        }
      ]
    },
    {
      "cell_type": "markdown",
      "source": [
        "Задание 2. Пользователь вводит порядковый номер месяца c 1 и программа выводит к какому сезону относится данный месяц (осень, лето, зима, весна)"
      ],
      "metadata": {
        "id": "pq-IBskhnpvZ"
      }
    },
    {
      "cell_type": "code",
      "source": [
        "n = int(input('Введите порядковый номер месяца от 1 до 12: '))\n",
        "\n",
        "if n == 1 or n == 2 or n == 12:\n",
        "    print('Зима')\n",
        "\n",
        "elif 3 <= n <= 5:\n",
        "    print('Весна')\n",
        "\n",
        "elif 6 <= n <= 8:\n",
        "    print('Лето')\n",
        "\n",
        "elif 9 <= n <= 11:\n",
        "    print('Осень')\n",
        "\n",
        "else:\n",
        "    print('Вы ввели значение вне диапазона')"
      ],
      "metadata": {
        "colab": {
          "base_uri": "https://localhost:8080/"
        },
        "id": "BxBn6ECXnjwF",
        "outputId": "1c8e93b2-b3a3-4b1d-85f1-a89c57c66516"
      },
      "execution_count": null,
      "outputs": [
        {
          "output_type": "stream",
          "name": "stdout",
          "text": [
            "Введите порядковый номер месяца от 1 до 12: 9\n",
            "Осень\n"
          ]
        }
      ]
    },
    {
      "cell_type": "markdown",
      "source": [
        "Задание 3. Напишите программу,  которая спрашивает у пользователя ввести число и выводит факториал данного числа.\n",
        "\n",
        "Пример факториал числа 5! = 1 х 2 х 3 х 4 х 5"
      ],
      "metadata": {
        "id": "2QEFgdkOmYXN"
      }
    },
    {
      "cell_type": "code",
      "source": [
        "n = int(input('Введите число: '))\n",
        "counter = 1\n",
        "\n",
        "if n < 0:\n",
        "    print('Вы ввели отрицательное число')\n",
        "\n",
        "else:\n",
        "    for i in range(1, n+1):\n",
        "        counter *= i\n",
        "    print('Факториал числа', n, '=', counter)"
      ],
      "metadata": {
        "colab": {
          "base_uri": "https://localhost:8080/"
        },
        "id": "3FBzMMhJlGul",
        "outputId": "52cbb367-bc06-4b8e-8c7a-a3f1330590a3"
      },
      "execution_count": null,
      "outputs": [
        {
          "output_type": "stream",
          "name": "stdout",
          "text": [
            "Введите число: 0\n",
            "Факториал числа 0 = 1\n"
          ]
        }
      ]
    }
  ]
}